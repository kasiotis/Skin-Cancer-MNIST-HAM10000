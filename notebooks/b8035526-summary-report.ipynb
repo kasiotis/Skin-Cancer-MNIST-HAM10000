{
 "cells": [
  {
   "cell_type": "markdown",
   "metadata": {},
   "source": [
    "# Skin Cancer MNIST: HAM10000 disease Classification (Extended Project)\n",
    "**Author: Antreas Kasiotis**\n",
    "**Student Number: B8035526**\n",
    "\n",
    "----"
   ]
  },
  {
   "cell_type": "markdown",
   "metadata": {
    "collapsed": false
   },
   "source": [
    "### Project Overview"
   ]
  },
  {
   "cell_type": "markdown",
   "metadata": {
    "collapsed": false
   },
   "source": [
    "#### Introduction\n",
    "This project aimed in the development of a software solution that automated diagnosis for disease classification from a dataset of dermoscopic skin cancer images. The approach that was taken was to develop various machine learning and deep learning models that would tackle this task and comprehensively compare their performance."
   ]
  },
  {
   "cell_type": "markdown",
   "metadata": {
    "collapsed": false
   },
   "source": [
    "#### Dermatology and Skin Cancer\n",
    "Skin cancer is the most common type of cancer and it strikes one in five people by the age of 70 ([SCF, 2022](https://www.skincancer.org/early-detection/)). With that being said, it is clear that this disease is a very big problem for our society. In the United Kingdom there is no national screening programme for non-melanoma skin cancer. Although non-melanoma is usually benign, it still has a 1% mortality rate ([Cancer Research UK, 2022](https://www.cancerresearchuk.org/health-professional/cancer-statistics/statistics-by-cancer-type/non-melanoma-skin-cancer/mortality)). According to the Skin Cancer Foundation, 99% of all skin cancer cases are curable if they are diagnosed and treated early enough ([SCF, 2022](https://www.skincancer.org/early-detection/)). It is therefore very clear that the role of technology in this field in tremendously important. With the use of image classification machine learning and deep learning the world could benefit by being enabled to easily, quicly, and accurately detect skin cancer so that they can the act on it."
   ]
  },
  {
   "cell_type": "markdown",
   "metadata": {
    "collapsed": false
   },
   "source": [
    "#### Work Plan\n",
    "To carry out this project I will be implementing three image classifiers that will be able to differentiate a new, unlabeled image of skin cancer into one of the seven classes of skin cancer. To achieve the classification of the disease, the models used labelled data to learn the relationship between the input data (images) and the labels."
   ]
  },
  {
   "cell_type": "markdown",
   "metadata": {
    "collapsed": false
   },
   "source": [
    "#### Bla bla\n",
    "bla bla bla"
   ]
  }
 ],
 "metadata": {
  "kernelspec": {
   "display_name": "Python 3",
   "language": "python",
   "name": "python3"
  },
  "language_info": {
   "codemirror_mode": {
    "name": "ipython",
    "version": 2
   },
   "file_extension": ".py",
   "mimetype": "text/x-python",
   "name": "python",
   "nbconvert_exporter": "python",
   "pygments_lexer": "ipython2",
   "version": "3.9.7"
  }
 },
 "nbformat": 4,
 "nbformat_minor": 1
}
