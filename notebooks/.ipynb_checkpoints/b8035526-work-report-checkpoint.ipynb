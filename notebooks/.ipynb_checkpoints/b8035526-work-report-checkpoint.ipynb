{
 "cells": [
  {
   "cell_type": "markdown",
   "metadata": {
    "pycharm": {
     "name": "#%% md\n"
    }
   },
   "source": [
    "## Skin Cancer MNIST: HAM10000 disease Classification (Extended Project)\n",
    "\n",
    "**Author: Antreas Kasiotis**\n",
    "\n",
    "**Student Number: B8035526**\n",
    "\n",
    "----"
   ]
  },
  {
   "cell_type": "markdown",
   "metadata": {},
   "source": [
    "## Project Overview\n",
    "The following work consists of an effort to develop an image classifier for dermatoscopic images of skin cancer. To tackle this project I will be working with the HAM10000 (\"Human Against Machine with 10000 training images\") dataset which is released as a training set for academic machine learning purposes and are publicly available through the ISIC archive. The dataset also consists of metadata for each of the images of the patients with information about their age, sex, the location of the disease on their body, the type of disease and the technical validation that confirmed the disease."
   ]
  },
  {
   "cell_type": "markdown",
   "metadata": {},
   "source": [
    "## Data Exploration"
   ]
  },
  {
   "cell_type": "code",
   "execution_count": null,
   "metadata": {
    "pycharm": {
     "is_executing": true,
     "name": "#%%\n"
    }
   },
   "outputs": [],
   "source": [
    "# Importing libraries\n",
    "import pandas as pd"
   ]
  },
  {
   "cell_type": "markdown",
   "metadata": {},
   "source": [
    "Importing and inspecting the data"
   ]
  },
  {
   "cell_type": "code",
   "execution_count": null,
   "metadata": {
    "pycharm": {
     "is_executing": true
    }
   },
   "outputs": [],
   "source": [
    "# import the data of images\n",
    "dataset_images_L = pd.read_csv(\"../cancer-data/hmnist_28_28_L.csv\")\n",
    "print(dataset_images_L.head(3))\n",
    "print(\"shape of images: \",dataset_images_L.shape)"
   ]
  },
  {
   "cell_type": "markdown",
   "metadata": {},
   "source": [
    "As we can see the grescale image dataset holds information about 784 pixels. This is essentially the color values for a 28x28 pixel image. The last column in named lable and it indicated the type of skin cancer the patient has."
   ]
  },
  {
   "cell_type": "code",
   "execution_count": null,
   "metadata": {
    "pycharm": {
     "is_executing": true,
     "name": "#%%\n"
    }
   },
   "outputs": [],
   "source": [
    "# import the data of images\n",
    "dataset_images_RGB = pd.read_csv(\"../cancer-data/hmnist_28_28_RGB.csv\")\n",
    "print(dataset_images_RGB.head(3))\n",
    "print(\"shape of images: \",dataset_images_RGB.shape)"
   ]
  },
  {
   "cell_type": "markdown",
   "metadata": {},
   "source": [
    "As we can see the image dataset holds information about 2352 pixels. This is essentially the RGB values for a 28x28 pixel image bu becaus the data is stored for RGB colors, we also have three columns for each pixel since we have to store the RGB values for red, green and blue. Now let's inspect the metadata file."
   ]
  },
  {
   "cell_type": "code",
   "execution_count": null,
   "metadata": {
    "pycharm": {
     "is_executing": true
    }
   },
   "outputs": [],
   "source": [
    "# import the metadata\n",
    "dataset_meta = pd.read_csv(\"../cancer-data/HAM10000_metadata.csv\")\n",
    "print(dataset_meta.head(3))\n",
    "print(\"shape of metadata: \", dataset_meta.shape)"
   ]
  },
  {
   "cell_type": "markdown",
   "metadata": {},
   "source": [
    "As expected the metadata dataset holds patient information for each image related to their disease and personal characteristics. Before commencing on with the implementation of the models I will be carrying out some exploratory data analysis for the metadata."
   ]
  },
  {
   "cell_type": "markdown",
   "metadata": {},
   "source": [
    "## Exploratory data analysis"
   ]
  },
  {
   "cell_type": "markdown",
   "metadata": {},
   "source": [
    "#### Introduction\n",
    "In this section I will be looking at the columns of the metadata dataset to better understand the characteristics of the disease and the patients."
   ]
  },
  {
   "cell_type": "code",
   "execution_count": null,
   "metadata": {
    "pycharm": {
     "is_executing": true
    }
   },
   "outputs": [],
   "source": [
    "# importing necessary libraries\n",
    "import matplotlib.pyplot as plt\n",
    "import seaborn as sns"
   ]
  },
  {
   "cell_type": "markdown",
   "metadata": {},
   "source": [
    "#### Disease class frequencies"
   ]
  },
  {
   "cell_type": "code",
   "execution_count": null,
   "metadata": {
    "pycharm": {
     "is_executing": true
    }
   },
   "outputs": [],
   "source": [
    "# Plotting the disease class frequencies\n",
    "bar, ax = plt.subplots(figsize=(7, 5))\n",
    "sns.countplot(x = 'dx', data = dataset_meta)\n",
    "plt.xlabel('Disease', size=12)\n",
    "plt.ylabel('Frequency', size=12)\n",
    "plt.title('Frequency Distribution of Classes', size=16)\n",
    "plt.show()"
   ]
  },
  {
   "cell_type": "markdown",
   "metadata": {},
   "source": [
    "#### Age groups with the disease"
   ]
  },
  {
   "cell_type": "code",
   "execution_count": null,
   "metadata": {
    "pycharm": {
     "is_executing": true
    }
   },
   "outputs": [],
   "source": [
    "# Plotting the frequencies of each age of those with the disease\n",
    "bar, ax = plt.subplots(figsize=(7, 5))\n",
    "sns.histplot(dataset_meta['age'])\n",
    "plt.title('Age range of patients', size=14)\n",
    "plt.show()"
   ]
  },
  {
   "cell_type": "markdown",
   "metadata": {},
   "source": [
    "#### Localization of the disease on the body"
   ]
  },
  {
   "cell_type": "code",
   "execution_count": null,
   "metadata": {
    "pycharm": {
     "is_executing": true
    }
   },
   "outputs": [],
   "source": [
    "# Plotting the distribution of the localization of the disease\n",
    "disease_location = dataset_meta['localization'].value_counts()\n",
    "plt.figure(figsize=(20, 8))\n",
    "sns.countplot(x='localization', data=dataset_meta)\n",
    "plt.title('Disease localisation distribution')\n",
    "plt.show()"
   ]
  },
  {
   "cell_type": "markdown",
   "metadata": {},
   "source": [
    "#### The genders of the patients"
   ]
  },
  {
   "cell_type": "code",
   "execution_count": null,
   "metadata": {
    "pycharm": {
     "is_executing": true
    }
   },
   "outputs": [],
   "source": [
    "# Plotting the gender frequencies of the patients\n",
    "bar, ax = plt.subplots(figsize=(7, 7))\n",
    "plt.pie(dataset_meta['sex'].value_counts(),\n",
    "        labels = dataset_meta['sex'].value_counts().index, \n",
    "        autopct=\"%.1f%%\")\n",
    "plt.title('Gender of Patient', size=16)\n",
    "plt.show()"
   ]
  },
  {
   "cell_type": "markdown",
   "metadata": {},
   "source": [
    "## Implemention of the Classifiers\n",
    "At this phase of the project I will be using three different methods to build my skin cancer image classifiers. In this section will also be showing the various types of data pre-processing that was required to implement each classifier. In total I will be buiding three classifiers, the cnn (convolutional neural network), the lstm (Long short-term memory RNN), and the svm (Support vector machine)."
   ]
  },
  {
   "cell_type": "markdown",
   "metadata": {},
   "source": [
    "#### CNN (convolutional neural network)"
   ]
  },
  {
   "cell_type": "code",
   "execution_count": null,
   "metadata": {
    "pycharm": {
     "is_executing": true
    }
   },
   "outputs": [],
   "source": [
    "# Importing required libraries\n",
    "import seaborn as sns\n",
    "import matplotlib.pyplot as plt\n",
    "import numpy as np\n",
    "import pandas as pd\n",
    "import tensorflow as tf\n",
    "import keras\n",
    "from imblearn.over_sampling import RandomOverSampler\n",
    "from keras.models import Sequential\n",
    "from keras.layers import Dense, Dropout, Flatten\n",
    "from keras.layers import Conv2D, MaxPooling2D\n",
    "from keras.utils import np_utils\n",
    "from sklearn.model_selection import train_test_split\n",
    "from tensorflow.keras.models import Sequential\n",
    "from tensorflow.keras.layers import Conv2D, Flatten, Dense, MaxPool2D\n"
   ]
  },
  {
   "cell_type": "markdown",
   "metadata": {},
   "source": [
    "Below we can see the implementation of the CNN model along with comments for explaining each part of the process."
   ]
  },
  {
   "cell_type": "code",
   "execution_count": null,
   "metadata": {
    "pycharm": {
     "is_executing": true
    }
   },
   "outputs": [],
   "source": [
    "# defining the number of classes\n",
    "num_classes = 7\n",
    "# defining the batch size and epochs for the model\n",
    "batch_size = 128\n",
    "epochs = 10\n",
    "\n",
    "# defining the number of rows and columns representing the pixels\n",
    "img_rows = 28\n",
    "img_cols = 28\n",
    "\n",
    "# removing the 'label' column from the data frame so I only keep the image data\n",
    "images = dataset_images_RGB.drop(['label'], axis=1)\n",
    "# keeping only the label column\n",
    "labels = dataset_images_RGB['label']\n",
    "\n",
    "# Oversampling to overcome class imbalance\n",
    "oversample = RandomOverSampler()\n",
    "images, labels = oversample.fit_resample(images, labels)\n",
    "\n",
    "# resizing the images and parsing them into an array\n",
    "images = np.array(images)\n",
    "images = images.reshape(-1, 28, 28, 1)\n",
    "print('Shape of images: ', images.shape)\n",
    "\n",
    "# Normalizing the images.\n",
    "images = (images-np.mean(images))/np.std(images)\n",
    "\n",
    "# Splitting my predictive and response data into training and testing sets with an 80:20 ratio\n",
    "# while the state is set to a constant so that the splitting can be done reproducibly\n",
    "x_train, x_test, y_train, y_test = train_test_split(images, labels, random_state=1, test_size=0.20)\n",
    "\n",
    "# encoding my labels to one-hot vectors\n",
    "y_train = keras.utils.np_utils.to_categorical(y_train, num_classes)\n",
    "y_test = keras.utils.np_utils.to_categorical(y_test, num_classes)\n",
    "\n",
    "# Model building\n",
    "model = Sequential()\n",
    "model.add(Conv2D(32, kernel_size=(3, 3), activation='relu', input_shape=(img_rows, img_cols, 1)))\n",
    "model.add(MaxPooling2D(pool_size=(2, 2)))\n",
    "model.add(Conv2D(64, (3, 3), activation='relu'))\n",
    "model.add(MaxPooling2D(pool_size=(2, 2)))\n",
    "model.add(Dropout(0.40))\n",
    "model.add(Flatten())\n",
    "model.add(Dense(128, activation='relu'))\n",
    "model.add(Dropout(0.5))\n",
    "model.add(Dense(num_classes, activation='softmax'))\n",
    "model.summary()\n",
    "\n",
    "callback = tf.keras.callbacks.ModelCheckpoint(filepath='trained-models/cnn-best-model-L.h5', monitor='val_acc', mode='max', verbose=1)\n",
    "\n",
    "model.compile(loss=keras.losses.categorical_crossentropy, optimizer='adam', metrics=['accuracy'])\n",
    "\n",
    "# Fitting the model\n",
    "history = model.fit(x_train, y_train, batch_size=batch_size, epochs=epochs, validation_split=0.2, callbacks=[callback])\n",
    "\n",
    "# Evaluating the model\n",
    "score = model.evaluate(x_test, y_test, verbose=0)\n",
    "print('Summary: Loss over the test dataset: %.2f, Accuracy: %.2f' % (score[0], score[1]))\n"
   ]
  },
  {
   "cell_type": "markdown",
   "metadata": {},
   "source": []
  },
  {
   "cell_type": "markdown",
   "metadata": {},
   "source": [
    "#### LSTM (Long short-term memory RNN)"
   ]
  },
  {
   "cell_type": "code",
   "execution_count": null,
   "metadata": {
    "pycharm": {
     "is_executing": true
    }
   },
   "outputs": [],
   "source": []
  },
  {
   "cell_type": "markdown",
   "metadata": {},
   "source": [
    "#### SVM (Support vector machine)"
   ]
  },
  {
   "cell_type": "code",
   "execution_count": null,
   "metadata": {
    "pycharm": {
     "is_executing": true
    }
   },
   "outputs": [],
   "source": []
  },
  {
   "cell_type": "markdown",
   "metadata": {},
   "source": [
    "#### Conclusion"
   ]
  }
 ],
 "metadata": {
  "kernelspec": {
   "display_name": "Python 3",
   "language": "python",
   "name": "python3"
  },
  "language_info": {
   "codemirror_mode": {
    "name": "ipython",
    "version": 3
   },
   "file_extension": ".py",
   "mimetype": "text/x-python",
   "name": "python",
   "nbconvert_exporter": "python",
   "pygments_lexer": "ipython3",
   "version": "3.7.8"
  }
 },
 "nbformat": 4,
 "nbformat_minor": 1
}
