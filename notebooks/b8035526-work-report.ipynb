{
 "cells": [
  {
   "cell_type": "markdown",
   "source": [
    "# Skin Cancer MNIST: HAM10000 disease Classification (Extended Project)\n",
    "\n",
    "**Author: Antreas Kasiotis**\n",
    "\n",
    "**Student Number: B8035526**\n",
    "\n",
    "----"
   ],
   "metadata": {
    "collapsed": false,
    "pycharm": {
     "name": "#%% md\n"
    }
   }
  },
  {
   "cell_type": "markdown",
   "source": [
    "### Introduction\n",
    "The following work consists of an effort to develop an image classifier for dermatoscopic images of skin cancer. To tackle this project I will be working with the HAM10000 (\"Human Against Machine with 10000 training images\") dataset which is released as a training set for academic machine learning purposes and are publicly available through the ISIC archive. The dataset also consists of metadata for each of the images of the patients with information about their age, sex, the location of the disease on their body, the type of disease and the technical validation that confirmed the disease."
   ],
   "metadata": {
    "collapsed": false
   }
  },
  {
   "cell_type": "markdown",
   "source": [
    "### Data Exploration\n"
   ],
   "metadata": {
    "collapsed": false
   }
  }
 ],
 "metadata": {
  "kernelspec": {
   "display_name": "Python 3",
   "language": "python",
   "name": "python3"
  },
  "language_info": {
   "codemirror_mode": {
    "name": "ipython",
    "version": 2
   },
   "file_extension": ".py",
   "mimetype": "text/x-python",
   "name": "python",
   "nbconvert_exporter": "python",
   "pygments_lexer": "ipython2",
   "version": "2.7.6"
  }
 },
 "nbformat": 4,
 "nbformat_minor": 0
}